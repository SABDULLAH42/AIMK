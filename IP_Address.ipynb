{
  "nbformat": 4,
  "nbformat_minor": 0,
  "metadata": {
    "colab": {
      "provenance": [],
      "authorship_tag": "ABX9TyN0vQ5LAW4GnfjRmzMjCjWq",
      "include_colab_link": true
    },
    "kernelspec": {
      "name": "python3",
      "display_name": "Python 3"
    },
    "language_info": {
      "name": "python"
    }
  },
  "cells": [
    {
      "cell_type": "markdown",
      "metadata": {
        "id": "view-in-github",
        "colab_type": "text"
      },
      "source": [
        "<a href=\"https://colab.research.google.com/github/SABDULLAH42/AIMK/blob/main/IP_Address.ipynb\" target=\"_parent\"><img src=\"https://colab.research.google.com/assets/colab-badge.svg\" alt=\"Open In Colab\"/></a>"
      ]
    },
    {
      "cell_type": "code",
      "execution_count": 1,
      "metadata": {
        "colab": {
          "base_uri": "https://localhost:8080/",
          "height": 462
        },
        "id": "QdgtirOceetR",
        "outputId": "3ec6d5ab-7fbc-4ce1-c8b6-8fe56371cfa6"
      },
      "outputs": [
        {
          "output_type": "stream",
          "name": "stdout",
          "text": [
            "\r0% [Working]\r            \rGet:1 http://security.ubuntu.com/ubuntu jammy-security InRelease [110 kB]\n",
            "\r0% [Connecting to archive.ubuntu.com] [1 InRelease 5,483 B/110 kB 5%] [Waiting for headers] [Connect\r                                                                                                    \rGet:2 https://cloud.r-project.org/bin/linux/ubuntu jammy-cran40/ InRelease [3,626 B]\n",
            "Get:3 https://developer.download.nvidia.com/compute/cuda/repos/ubuntu2204/x86_64  InRelease [1,581 B]\n",
            "Hit:4 http://archive.ubuntu.com/ubuntu jammy InRelease\n",
            "Get:5 http://archive.ubuntu.com/ubuntu jammy-updates InRelease [119 kB]\n",
            "Get:6 https://developer.download.nvidia.com/compute/cuda/repos/ubuntu2204/x86_64  Packages [689 kB]\n",
            "Hit:7 https://ppa.launchpadcontent.net/c2d4u.team/c2d4u4.0+/ubuntu jammy InRelease\n",
            "Hit:8 https://ppa.launchpadcontent.net/deadsnakes/ppa/ubuntu jammy InRelease\n",
            "Hit:9 https://ppa.launchpadcontent.net/graphics-drivers/ppa/ubuntu jammy InRelease\n",
            "Hit:10 http://archive.ubuntu.com/ubuntu jammy-backports InRelease\n",
            "Hit:11 https://ppa.launchpadcontent.net/ubuntugis/ppa/ubuntu jammy InRelease\n",
            "Fetched 924 kB in 2s (610 kB/s)\n",
            "Reading package lists... Done\n",
            "sample_data  spark-3.1.1-bin-hadoop3.2\tspark-3.1.1-bin-hadoop3.2.tgz\n"
          ]
        },
        {
          "output_type": "execute_result",
          "data": {
            "text/plain": [
              "<pyspark.sql.session.SparkSession at 0x7be85c3206a0>"
            ],
            "text/html": [
              "\n",
              "            <div>\n",
              "                <p><b>SparkSession - in-memory</b></p>\n",
              "                \n",
              "        <div>\n",
              "            <p><b>SparkContext</b></p>\n",
              "\n",
              "            <p><a href=\"http://840dd9b61ac4:4040\">Spark UI</a></p>\n",
              "\n",
              "            <dl>\n",
              "              <dt>Version</dt>\n",
              "                <dd><code>v3.1.1</code></dd>\n",
              "              <dt>Master</dt>\n",
              "                <dd><code>local[*]</code></dd>\n",
              "              <dt>AppName</dt>\n",
              "                <dd><code>pyspark-shell</code></dd>\n",
              "            </dl>\n",
              "        </div>\n",
              "        \n",
              "            </div>\n",
              "        "
            ]
          },
          "metadata": {},
          "execution_count": 1
        }
      ],
      "source": [
        "!apt-get update\n",
        "!apt-get install openjdk-8-jdk-headless -qq > /dev/null\n",
        "!wget -q http://archive.apache.org/dist/spark/spark-3.1.1/spark-3.1.1-bin-hadoop3.2.tgz\n",
        "!tar xf spark-3.1.1-bin-hadoop3.2.tgz\n",
        "!pip install -q findspark\n",
        "\n",
        "import os\n",
        "os.environ[\"JAVA_HOME\"] = \"/usr/lib/jvm/java-8-openjdk-amd64\"\n",
        "os.environ[\"SPARK_HOME\"] = \"/content/spark-3.1.1-bin-hadoop3.2\"\n",
        "\n",
        "!ls\n",
        "\n",
        "import findspark\n",
        "findspark.init()\n",
        "\n",
        "from pyspark.sql import SparkSession\n",
        "spark = SparkSession.builder.master(\"local[*]\").getOrCreate()\n",
        "spark"
      ]
    },
    {
      "cell_type": "code",
      "source": [
        "df = spark.read.csv(\"sample_data/challenge.csv\", header=True)\n",
        "df.show()\n",
        ""
      ],
      "metadata": {
        "colab": {
          "base_uri": "https://localhost:8080/"
        },
        "id": "wQ7gqFjye0dH",
        "outputId": "42f0f580-11a3-4a7c-ee2a-4eb842856907"
      },
      "execution_count": 2,
      "outputs": [
        {
          "output_type": "stream",
          "name": "stdout",
          "text": [
            "+---------------+--------------+-----------------+----------+\n",
            "|     ip_address|       Country|      Domain Name|Bytes_used|\n",
            "+---------------+--------------+-----------------+----------+\n",
            "|  52.81.192.172|         China| odnoklassniki.ru|       463|\n",
            "| 119.239.207.13|         China|         youtu.be|        51|\n",
            "|  68.69.217.210|         China|        adobe.com|        10|\n",
            "|   7.191.21.223|      Bulgaria|     linkedin.com|       853|\n",
            "|   211.13.10.68|     Indonesia|          hud.gov|        29|\n",
            "|   239.80.21.97|      Suriname|       smh.com.au|       218|\n",
            "|106.214.106.233|       Jamaica|    amazonaws.com|        95|\n",
            "| 127.242.24.138|         China| surveymonkey.com|       123|\n",
            "|     99.2.6.139|Czech Republic|     geocities.jp|       322|\n",
            "|   237.54.11.63|         China|       amazon.com|        83|\n",
            "| 252.141.157.25|         Japan|      cornell.edu|       374|\n",
            "|185.220.128.248|       Belgium|       weebly.com|       389|\n",
            "|   151.77.19.45|   Afghanistan|independent.co.uk|       282|\n",
            "|  9.161.158.225|     Indonesia|    bloglines.com|       726|\n",
            "| 156.144.61.155|Czech Republic|   slideshare.net|       657|\n",
            "|   8.96.188.151|     Indonesia|          ibm.com|       517|\n",
            "|      5.72.7.65|        Mexico|         youtu.be|       877|\n",
            "|227.110.112.144|       Croatia|         ehow.com|       287|\n",
            "|    81.71.28.97|      Thailand|          last.fm|       588|\n",
            "|  9.255.129.184|      Thailand|          mtv.com|       114|\n",
            "+---------------+--------------+-----------------+----------+\n",
            "only showing top 20 rows\n",
            "\n"
          ]
        }
      ]
    },
    {
      "cell_type": "code",
      "source": [
        "## Add a column to say yes or No to whether the Country is Mexico\n",
        "\n",
        "import pyspark.sql.functions as sqlfunc\n",
        "from pyspark.sql.functions import *\n",
        "df = df.withColumn('home', when(df.Country =='Mexico', 'YES').otherwise('NO'))\n",
        "df.show()"
      ],
      "metadata": {
        "colab": {
          "base_uri": "https://localhost:8080/"
        },
        "id": "4cqtX_YPfSug",
        "outputId": "0ede69ed-8252-4375-8eb8-49d6e03a9fe9"
      },
      "execution_count": 3,
      "outputs": [
        {
          "output_type": "stream",
          "name": "stdout",
          "text": [
            "+---------------+--------------+-----------------+----------+----+\n",
            "|     ip_address|       Country|      Domain Name|Bytes_used|home|\n",
            "+---------------+--------------+-----------------+----------+----+\n",
            "|  52.81.192.172|         China| odnoklassniki.ru|       463|  NO|\n",
            "| 119.239.207.13|         China|         youtu.be|        51|  NO|\n",
            "|  68.69.217.210|         China|        adobe.com|        10|  NO|\n",
            "|   7.191.21.223|      Bulgaria|     linkedin.com|       853|  NO|\n",
            "|   211.13.10.68|     Indonesia|          hud.gov|        29|  NO|\n",
            "|   239.80.21.97|      Suriname|       smh.com.au|       218|  NO|\n",
            "|106.214.106.233|       Jamaica|    amazonaws.com|        95|  NO|\n",
            "| 127.242.24.138|         China| surveymonkey.com|       123|  NO|\n",
            "|     99.2.6.139|Czech Republic|     geocities.jp|       322|  NO|\n",
            "|   237.54.11.63|         China|       amazon.com|        83|  NO|\n",
            "| 252.141.157.25|         Japan|      cornell.edu|       374|  NO|\n",
            "|185.220.128.248|       Belgium|       weebly.com|       389|  NO|\n",
            "|   151.77.19.45|   Afghanistan|independent.co.uk|       282|  NO|\n",
            "|  9.161.158.225|     Indonesia|    bloglines.com|       726|  NO|\n",
            "| 156.144.61.155|Czech Republic|   slideshare.net|       657|  NO|\n",
            "|   8.96.188.151|     Indonesia|          ibm.com|       517|  NO|\n",
            "|      5.72.7.65|        Mexico|         youtu.be|       877| YES|\n",
            "|227.110.112.144|       Croatia|         ehow.com|       287|  NO|\n",
            "|    81.71.28.97|      Thailand|          last.fm|       588|  NO|\n",
            "|  9.255.129.184|      Thailand|          mtv.com|       114|  NO|\n",
            "+---------------+--------------+-----------------+----------+----+\n",
            "only showing top 20 rows\n",
            "\n"
          ]
        }
      ]
    },
    {
      "cell_type": "markdown",
      "source": [],
      "metadata": {
        "id": "QO2kUrU0lGUT"
      }
    },
    {
      "cell_type": "code",
      "source": [
        "##Group by your new column and sum bytes_used\n",
        "\n",
        "df2 = df.groupBy('home').agg(sqlfunc.sum(df.Bytes_used).alias('total_used'))\n",
        "df2.show()"
      ],
      "metadata": {
        "colab": {
          "base_uri": "https://localhost:8080/"
        },
        "id": "rbSNfSphi2Am",
        "outputId": "39c87680-7fab-4fc1-d77e-0d4227b695b1"
      },
      "execution_count": 4,
      "outputs": [
        {
          "output_type": "stream",
          "name": "stdout",
          "text": [
            "+----+----------+\n",
            "|home|total_used|\n",
            "+----+----------+\n",
            "| YES|    6293.0|\n",
            "|  NO|  508076.0|\n",
            "+----+----------+\n",
            "\n"
          ]
        }
      ]
    },
    {
      "cell_type": "code",
      "source": [
        "##Group by Country & use the sqlfunc.countDistinct function to calculate the number of IP address seen in EACH Country\n",
        "\n",
        "df3 = df.groupBy('Country').agg(sqlfunc.countDistinct(df.ip_address).alias('number_of_ips'))\n",
        "df3.sort(col(\"number_of_ips\").desc()).show()"
      ],
      "metadata": {
        "colab": {
          "base_uri": "https://localhost:8080/"
        },
        "id": "1B1uswYDlMeo",
        "outputId": "00ca2001-ddc2-47cf-c2a6-4909bbbf2d6f"
      },
      "execution_count": 5,
      "outputs": [
        {
          "output_type": "stream",
          "name": "stdout",
          "text": [
            "+--------------+-------------+\n",
            "|       Country|number_of_ips|\n",
            "+--------------+-------------+\n",
            "|         China|          172|\n",
            "|     Indonesia|          114|\n",
            "|   Philippines|           65|\n",
            "|        Russia|           56|\n",
            "|        Brazil|           35|\n",
            "|        Poland|           31|\n",
            "|        Sweden|           28|\n",
            "|         Japan|           25|\n",
            "|Czech Republic|           23|\n",
            "|      Portugal|           23|\n",
            "|        France|           21|\n",
            "|          Peru|           19|\n",
            "|      Colombia|           17|\n",
            "| United States|           15|\n",
            "|     Argentina|           14|\n",
            "|       Ukraine|           14|\n",
            "|        Mexico|           13|\n",
            "|      Thailand|           12|\n",
            "|        Canada|           11|\n",
            "|       Nigeria|           11|\n",
            "+--------------+-------------+\n",
            "only showing top 20 rows\n",
            "\n"
          ]
        }
      ]
    },
    {
      "cell_type": "code",
      "source": [],
      "metadata": {
        "id": "alwPD8V1mAvr"
      },
      "execution_count": null,
      "outputs": []
    }
  ]
}